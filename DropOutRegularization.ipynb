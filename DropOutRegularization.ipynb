{
  "nbformat": 4,
  "nbformat_minor": 0,
  "metadata": {
    "colab": {
      "provenance": [],
      "authorship_tag": "ABX9TyOAbllleH9rOcWs0IPRW0B9",
      "include_colab_link": true
    },
    "kernelspec": {
      "name": "python3",
      "display_name": "Python 3"
    },
    "language_info": {
      "name": "python"
    }
  },
  "cells": [
    {
      "cell_type": "markdown",
      "metadata": {
        "id": "view-in-github",
        "colab_type": "text"
      },
      "source": [
        "<a href=\"https://colab.research.google.com/github/moonmehedi/deep-learning-note-books/blob/main/DropOutRegularization.ipynb\" target=\"_parent\"><img src=\"https://colab.research.google.com/assets/colab-badge.svg\" alt=\"Open In Colab\"/></a>"
      ]
    },
    {
      "cell_type": "code",
      "execution_count": 62,
      "metadata": {
        "id": "SXZ7ot2VM-Ag"
      },
      "outputs": [],
      "source": [
        "import numpy as np\n",
        "import pandas as pd\n",
        "import matplotlib.pyplot as plt\n",
        "import seaborn as sns\n",
        "import warnings\n",
        "warnings.filterwarnings('ignore')"
      ]
    },
    {
      "cell_type": "markdown",
      "source": [],
      "metadata": {
        "id": "7CrDYfl3yC-i"
      }
    },
    {
      "cell_type": "code",
      "source": [
        "df=pd.read_csv('./sample_data/sonar_dataset.csv',header=None)"
      ],
      "metadata": {
        "id": "l9cZIKgGxYHO"
      },
      "execution_count": 63,
      "outputs": []
    },
    {
      "cell_type": "code",
      "source": [
        "df.shape,df.columns"
      ],
      "metadata": {
        "id": "zszSTlkKx7pM",
        "outputId": "9a3d0f1f-49a7-4c89-ad66-7ba806cc8b51",
        "colab": {
          "base_uri": "https://localhost:8080/"
        }
      },
      "execution_count": 64,
      "outputs": [
        {
          "output_type": "execute_result",
          "data": {
            "text/plain": [
              "((208, 61),\n",
              " Index([ 0,  1,  2,  3,  4,  5,  6,  7,  8,  9, 10, 11, 12, 13, 14, 15, 16, 17,\n",
              "        18, 19, 20, 21, 22, 23, 24, 25, 26, 27, 28, 29, 30, 31, 32, 33, 34, 35,\n",
              "        36, 37, 38, 39, 40, 41, 42, 43, 44, 45, 46, 47, 48, 49, 50, 51, 52, 53,\n",
              "        54, 55, 56, 57, 58, 59, 60],\n",
              "       dtype='int64'))"
            ]
          },
          "metadata": {},
          "execution_count": 64
        }
      ]
    },
    {
      "cell_type": "code",
      "source": [
        "df[60].value_counts()"
      ],
      "metadata": {
        "id": "8N7iAen6yODB",
        "outputId": "69d6c47d-a000-4a05-ca96-a3bfbbb1d782",
        "colab": {
          "base_uri": "https://localhost:8080/",
          "height": 178
        }
      },
      "execution_count": 65,
      "outputs": [
        {
          "output_type": "execute_result",
          "data": {
            "text/plain": [
              "60\n",
              "M    111\n",
              "R     97\n",
              "Name: count, dtype: int64"
            ],
            "text/html": [
              "<div>\n",
              "<style scoped>\n",
              "    .dataframe tbody tr th:only-of-type {\n",
              "        vertical-align: middle;\n",
              "    }\n",
              "\n",
              "    .dataframe tbody tr th {\n",
              "        vertical-align: top;\n",
              "    }\n",
              "\n",
              "    .dataframe thead th {\n",
              "        text-align: right;\n",
              "    }\n",
              "</style>\n",
              "<table border=\"1\" class=\"dataframe\">\n",
              "  <thead>\n",
              "    <tr style=\"text-align: right;\">\n",
              "      <th></th>\n",
              "      <th>count</th>\n",
              "    </tr>\n",
              "    <tr>\n",
              "      <th>60</th>\n",
              "      <th></th>\n",
              "    </tr>\n",
              "  </thead>\n",
              "  <tbody>\n",
              "    <tr>\n",
              "      <th>M</th>\n",
              "      <td>111</td>\n",
              "    </tr>\n",
              "    <tr>\n",
              "      <th>R</th>\n",
              "      <td>97</td>\n",
              "    </tr>\n",
              "  </tbody>\n",
              "</table>\n",
              "</div><br><label><b>dtype:</b> int64</label>"
            ]
          },
          "metadata": {},
          "execution_count": 65
        }
      ]
    },
    {
      "cell_type": "code",
      "source": [
        "y=df[60].values.reshape(-1,1)\n",
        "x=df.drop(60,axis=1)\n",
        "\n",
        "y"
      ],
      "metadata": {
        "id": "oK1GAjXZzRjJ",
        "outputId": "e7fc2382-f14a-4d0d-b588-59ce0b1aca89",
        "colab": {
          "base_uri": "https://localhost:8080/"
        }
      },
      "execution_count": 66,
      "outputs": [
        {
          "output_type": "execute_result",
          "data": {
            "text/plain": [
              "array([['R'],\n",
              "       ['R'],\n",
              "       ['R'],\n",
              "       ['R'],\n",
              "       ['R'],\n",
              "       ['R'],\n",
              "       ['R'],\n",
              "       ['R'],\n",
              "       ['R'],\n",
              "       ['R'],\n",
              "       ['R'],\n",
              "       ['R'],\n",
              "       ['R'],\n",
              "       ['R'],\n",
              "       ['R'],\n",
              "       ['R'],\n",
              "       ['R'],\n",
              "       ['R'],\n",
              "       ['R'],\n",
              "       ['R'],\n",
              "       ['R'],\n",
              "       ['R'],\n",
              "       ['R'],\n",
              "       ['R'],\n",
              "       ['R'],\n",
              "       ['R'],\n",
              "       ['R'],\n",
              "       ['R'],\n",
              "       ['R'],\n",
              "       ['R'],\n",
              "       ['R'],\n",
              "       ['R'],\n",
              "       ['R'],\n",
              "       ['R'],\n",
              "       ['R'],\n",
              "       ['R'],\n",
              "       ['R'],\n",
              "       ['R'],\n",
              "       ['R'],\n",
              "       ['R'],\n",
              "       ['R'],\n",
              "       ['R'],\n",
              "       ['R'],\n",
              "       ['R'],\n",
              "       ['R'],\n",
              "       ['R'],\n",
              "       ['R'],\n",
              "       ['R'],\n",
              "       ['R'],\n",
              "       ['R'],\n",
              "       ['R'],\n",
              "       ['R'],\n",
              "       ['R'],\n",
              "       ['R'],\n",
              "       ['R'],\n",
              "       ['R'],\n",
              "       ['R'],\n",
              "       ['R'],\n",
              "       ['R'],\n",
              "       ['R'],\n",
              "       ['R'],\n",
              "       ['R'],\n",
              "       ['R'],\n",
              "       ['R'],\n",
              "       ['R'],\n",
              "       ['R'],\n",
              "       ['R'],\n",
              "       ['R'],\n",
              "       ['R'],\n",
              "       ['R'],\n",
              "       ['R'],\n",
              "       ['R'],\n",
              "       ['R'],\n",
              "       ['R'],\n",
              "       ['R'],\n",
              "       ['R'],\n",
              "       ['R'],\n",
              "       ['R'],\n",
              "       ['R'],\n",
              "       ['R'],\n",
              "       ['R'],\n",
              "       ['R'],\n",
              "       ['R'],\n",
              "       ['R'],\n",
              "       ['R'],\n",
              "       ['R'],\n",
              "       ['R'],\n",
              "       ['R'],\n",
              "       ['R'],\n",
              "       ['R'],\n",
              "       ['R'],\n",
              "       ['R'],\n",
              "       ['R'],\n",
              "       ['R'],\n",
              "       ['R'],\n",
              "       ['R'],\n",
              "       ['R'],\n",
              "       ['M'],\n",
              "       ['M'],\n",
              "       ['M'],\n",
              "       ['M'],\n",
              "       ['M'],\n",
              "       ['M'],\n",
              "       ['M'],\n",
              "       ['M'],\n",
              "       ['M'],\n",
              "       ['M'],\n",
              "       ['M'],\n",
              "       ['M'],\n",
              "       ['M'],\n",
              "       ['M'],\n",
              "       ['M'],\n",
              "       ['M'],\n",
              "       ['M'],\n",
              "       ['M'],\n",
              "       ['M'],\n",
              "       ['M'],\n",
              "       ['M'],\n",
              "       ['M'],\n",
              "       ['M'],\n",
              "       ['M'],\n",
              "       ['M'],\n",
              "       ['M'],\n",
              "       ['M'],\n",
              "       ['M'],\n",
              "       ['M'],\n",
              "       ['M'],\n",
              "       ['M'],\n",
              "       ['M'],\n",
              "       ['M'],\n",
              "       ['M'],\n",
              "       ['M'],\n",
              "       ['M'],\n",
              "       ['M'],\n",
              "       ['M'],\n",
              "       ['M'],\n",
              "       ['M'],\n",
              "       ['M'],\n",
              "       ['M'],\n",
              "       ['M'],\n",
              "       ['M'],\n",
              "       ['M'],\n",
              "       ['M'],\n",
              "       ['M'],\n",
              "       ['M'],\n",
              "       ['M'],\n",
              "       ['M'],\n",
              "       ['M'],\n",
              "       ['M'],\n",
              "       ['M'],\n",
              "       ['M'],\n",
              "       ['M'],\n",
              "       ['M'],\n",
              "       ['M'],\n",
              "       ['M'],\n",
              "       ['M'],\n",
              "       ['M'],\n",
              "       ['M'],\n",
              "       ['M'],\n",
              "       ['M'],\n",
              "       ['M'],\n",
              "       ['M'],\n",
              "       ['M'],\n",
              "       ['M'],\n",
              "       ['M'],\n",
              "       ['M'],\n",
              "       ['M'],\n",
              "       ['M'],\n",
              "       ['M'],\n",
              "       ['M'],\n",
              "       ['M'],\n",
              "       ['M'],\n",
              "       ['M'],\n",
              "       ['M'],\n",
              "       ['M'],\n",
              "       ['M'],\n",
              "       ['M'],\n",
              "       ['M'],\n",
              "       ['M'],\n",
              "       ['M'],\n",
              "       ['M'],\n",
              "       ['M'],\n",
              "       ['M'],\n",
              "       ['M'],\n",
              "       ['M'],\n",
              "       ['M'],\n",
              "       ['M'],\n",
              "       ['M'],\n",
              "       ['M'],\n",
              "       ['M'],\n",
              "       ['M'],\n",
              "       ['M'],\n",
              "       ['M'],\n",
              "       ['M'],\n",
              "       ['M'],\n",
              "       ['M'],\n",
              "       ['M'],\n",
              "       ['M'],\n",
              "       ['M'],\n",
              "       ['M'],\n",
              "       ['M'],\n",
              "       ['M'],\n",
              "       ['M'],\n",
              "       ['M'],\n",
              "       ['M'],\n",
              "       ['M'],\n",
              "       ['M'],\n",
              "       ['M']], dtype=object)"
            ]
          },
          "metadata": {},
          "execution_count": 66
        }
      ]
    },
    {
      "cell_type": "code",
      "source": [
        "from sklearn.preprocessing import OneHotEncoder\n",
        "\n",
        "encoder=OneHotEncoder(drop='first',sparse_output=False)\n",
        "\n",
        "y=encoder.fit_transform(y)\n",
        "\n"
      ],
      "metadata": {
        "id": "dedukB_Lyv9p"
      },
      "execution_count": 68,
      "outputs": []
    },
    {
      "cell_type": "code",
      "source": [],
      "metadata": {
        "id": "DEgffVj30qmD"
      },
      "execution_count": null,
      "outputs": []
    }
  ]
}